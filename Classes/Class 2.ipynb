{
 "cells": [
  {
   "cell_type": "code",
   "execution_count": 1,
   "id": "91b60cf4-8eb0-456c-a62c-2d2ec0bfe070",
   "metadata": {},
   "outputs": [
    {
     "ename": "IndentationError",
     "evalue": "expected an indented block after 'if' statement on line 3 (2988091500.py, line 4)",
     "output_type": "error",
     "traceback": [
      "\u001b[1;36m  Cell \u001b[1;32mIn[1], line 4\u001b[1;36m\u001b[0m\n\u001b[1;33m    print(\"Yahoo!\")\u001b[0m\n\u001b[1;37m    ^\u001b[0m\n\u001b[1;31mIndentationError\u001b[0m\u001b[1;31m:\u001b[0m expected an indented block after 'if' statement on line 3\n"
     ]
    }
   ],
   "source": [
    "exam_passed = True\n",
    "\n",
    "if exam_passed: # exam_passed==True\n",
    "print(\"Yahoo!\")\n",
    "else:\n",
    "print(\"Sad!\")"
   ]
  },
  {
   "cell_type": "code",
   "execution_count": 2,
   "id": "7d613932-b33d-4651-bebb-63a02a7249a7",
   "metadata": {},
   "outputs": [
    {
     "name": "stdout",
     "output_type": "stream",
     "text": [
      "Yahoo!\n"
     ]
    }
   ],
   "source": [
    "exam_passed = True\n",
    "\n",
    "if exam_passed: # exam_passed==True\n",
    "    print(\"Yahoo!\")\n",
    "else:\n",
    "    print(\"Sad!\")"
   ]
  },
  {
   "cell_type": "code",
   "execution_count": 5,
   "id": "eee37ae2-339b-4646-8f76-f15b0f6556b8",
   "metadata": {},
   "outputs": [
    {
     "name": "stdout",
     "output_type": "stream",
     "text": [
      ">5\n"
     ]
    }
   ],
   "source": [
    "a = 20\n",
    "if a<5:\n",
    "    print(\"<5\")\n",
    "elif a==5:\n",
    "    print(\"==5\")\n",
    "elif a>5:\n",
    "    print(\">5\")"
   ]
  },
  {
   "cell_type": "code",
   "execution_count": 8,
   "id": "c330a293-86d3-4bd1-834c-252f986e2eec",
   "metadata": {},
   "outputs": [
    {
     "name": "stdin",
     "output_type": "stream",
     "text": [
      " 12\n"
     ]
    },
    {
     "name": "stdout",
     "output_type": "stream",
     "text": [
      "greater, yes\n"
     ]
    }
   ],
   "source": [
    "# nested if\n",
    "a = int(input())\n",
    "if a < 10:\n",
    "    if a % 2 == 0:\n",
    "        print('less, yes')\n",
    "    else:\n",
    "        print('less, no')\n",
    "else:\n",
    "    if (a % 3) == 0:\n",
    "        print('greater, yes')\n",
    "    else:\n",
    "        print('greater, no')"
   ]
  },
  {
   "cell_type": "code",
   "execution_count": 10,
   "id": "545181a5-9780-4e97-b11b-ab352c55b20d",
   "metadata": {},
   "outputs": [
    {
     "name": "stdin",
     "output_type": "stream",
     "text": [
      " 1\n"
     ]
    },
    {
     "name": "stdout",
     "output_type": "stream",
     "text": [
      "Nothing\n"
     ]
    }
   ],
   "source": [
    "letter = input()\n",
    "\n",
    "if letter >='a' and letter <='z':\n",
    "    print('Lower case')\n",
    "elif letter >='A' and letter <='Z':\n",
    "    print('Upper case')\n",
    "else:\n",
    "    print('Nothing')"
   ]
  },
  {
   "cell_type": "code",
   "execution_count": 13,
   "id": "394d48f2-9294-4dd6-8fbd-7e7f3824601a",
   "metadata": {},
   "outputs": [
    {
     "name": "stdout",
     "output_type": "stream",
     "text": [
      "0\n"
     ]
    }
   ],
   "source": [
    "a = 0\n",
    "if a==0:\n",
    "    print('0')\n",
    "if a!=1:\n",
    "    print('!=1')\n",
    "else:\n",
    "    print('Nothing')"
   ]
  },
  {
   "cell_type": "code",
   "execution_count": 17,
   "id": "caa21706-44b8-48df-b531-615fc34df9d3",
   "metadata": {},
   "outputs": [
    {
     "name": "stdout",
     "output_type": "stream",
     "text": [
      "0\n",
      "1\n",
      "3\n",
      "6\n",
      "10\n",
      "15\n",
      "21\n",
      "28\n",
      "36\n",
      "45\n",
      "final sum 55\n"
     ]
    }
   ],
   "source": [
    "## LOOP\n",
    "n = 1\n",
    "sum = 0\n",
    "while n <= 10:\n",
    "    print(sum)\n",
    "    sum = sum + n\n",
    "    n = n + 1\n",
    "\n",
    "print(\"final sum\", sum)"
   ]
  },
  {
   "cell_type": "code",
   "execution_count": 18,
   "id": "5e5c027a-0b8c-4c86-8fd2-d855a272685d",
   "metadata": {},
   "outputs": [
    {
     "name": "stdout",
     "output_type": "stream",
     "text": [
      "onion\n",
      "potato\n",
      "ginger\n",
      "cucumber\n"
     ]
    }
   ],
   "source": [
    "veges = ['onion', 'potato', 'ginger', 'cucumber']\n",
    "\n",
    "for item in veges:\n",
    "    print(item)"
   ]
  },
  {
   "cell_type": "code",
   "execution_count": 15,
   "id": "4c0ebbaf-f92c-4c8b-b2e0-9d434fbea5bc",
   "metadata": {},
   "outputs": [
    {
     "name": "stdout",
     "output_type": "stream",
     "text": [
      "potato\n",
      "ginger\n"
     ]
    }
   ],
   "source": [
    "veges = ['onion', 'potato', 'ginger', 'cucumber']\n",
    "\n",
    "for item in range(1, len(veges), 1):\n",
    "    if item==3:\n",
    "        continue\n",
    "    print(veges[item])"
   ]
  },
  {
   "cell_type": "code",
   "execution_count": 19,
   "id": "9a1faff7-7c27-4aba-9615-65fb22b354a9",
   "metadata": {},
   "outputs": [
    {
     "name": "stdout",
     "output_type": "stream",
     "text": [
      "a\n",
      "b\n"
     ]
    }
   ],
   "source": [
    "veges = {'a': 'onion', 'b': 'potato'}\n",
    "\n",
    "for item in veges:\n",
    "    print(item)"
   ]
  },
  {
   "cell_type": "code",
   "execution_count": 3,
   "id": "052d4638-09e4-4fe4-8585-fc8cc379a91e",
   "metadata": {},
   "outputs": [
    {
     "name": "stdout",
     "output_type": "stream",
     "text": [
      "1\n",
      "2\n",
      "3\n"
     ]
    }
   ],
   "source": [
    "n = 1\n",
    "while n <= 10:\n",
    "    print(n)\n",
    "    if n==3:\n",
    "        break\n",
    "    n = n + 1"
   ]
  },
  {
   "cell_type": "code",
   "execution_count": 5,
   "id": "9322cfd3-a8ed-451b-ba62-b0875959f423",
   "metadata": {},
   "outputs": [
    {
     "name": "stdout",
     "output_type": "stream",
     "text": [
      "2\n",
      "4\n",
      "5\n",
      "6\n",
      "7\n",
      "8\n",
      "9\n",
      "10\n",
      "11\n"
     ]
    }
   ],
   "source": [
    "n = 1\n",
    "while n <= 10:\n",
    "    n = n + 1\n",
    "    if n==3:\n",
    "        continue\n",
    "    print(n)"
   ]
  },
  {
   "cell_type": "code",
   "execution_count": 11,
   "id": "53937756-3fc9-4afa-bc87-239bf99d2ae7",
   "metadata": {},
   "outputs": [
    {
     "name": "stdout",
     "output_type": "stream",
     "text": [
      "1\n",
      "2\n",
      "4\n",
      "5\n",
      "6\n",
      "7\n",
      "8\n",
      "9\n",
      "10\n"
     ]
    }
   ],
   "source": [
    "for n in range(1, 10+1, 1):\n",
    "    if n==3:\n",
    "        continue\n",
    "    print(n)"
   ]
  },
  {
   "cell_type": "code",
   "execution_count": 12,
   "id": "12a5184c-fc99-4996-bcaa-f54695aa0672",
   "metadata": {},
   "outputs": [
    {
     "name": "stdout",
     "output_type": "stream",
     "text": [
      "1\n",
      "2\n",
      "3\n",
      "4\n",
      "5\n",
      "6\n",
      "7\n",
      "8\n",
      "9\n",
      "10\n"
     ]
    }
   ],
   "source": [
    "for n in range(1, 10+1, 1):\n",
    "    if n==3:\n",
    "        pass\n",
    "    print(n)"
   ]
  },
  {
   "cell_type": "code",
   "execution_count": 13,
   "id": "3a7dd18c-c4bd-4033-8b99-fb7189cb3766",
   "metadata": {},
   "outputs": [
    {
     "name": "stdout",
     "output_type": "stream",
     "text": [
      "Please provide a number: \n"
     ]
    },
    {
     "name": "stdin",
     "output_type": "stream",
     "text": [
      " 3\n"
     ]
    },
    {
     "name": "stdout",
     "output_type": "stream",
     "text": [
      "***\n",
      "***\n",
      "***\n"
     ]
    }
   ],
   "source": [
    "print(\"Please provide a number: \")\n",
    "number = int(input())\n",
    "temp = number\n",
    "\n",
    "while number > 0:\n",
    "    count = temp\n",
    "    while count > 0:\n",
    "        print('*', end='')\n",
    "        count -= 1\n",
    "    print()\n",
    "    number -= 1\n"
   ]
  },
  {
   "cell_type": "code",
   "execution_count": 16,
   "id": "f5b1cd25-f3c2-425c-b9a8-e36ddffa96a1",
   "metadata": {},
   "outputs": [],
   "source": [
    "## FUNCTION\n",
    "def print_my_age(age):\n",
    "    # intro\n",
    "    print(\"Age: \", age)\n",
    "    return # None"
   ]
  },
  {
   "cell_type": "code",
   "execution_count": 17,
   "id": "cd2ffdec-5c12-4f21-83d2-d25aaadd97ac",
   "metadata": {},
   "outputs": [
    {
     "name": "stdout",
     "output_type": "stream",
     "text": [
      "Age:  50\n"
     ]
    }
   ],
   "source": [
    "print_my_age(50)"
   ]
  },
  {
   "cell_type": "code",
   "execution_count": 24,
   "id": "bc763029-a963-447e-a6c4-379eaebdfddf",
   "metadata": {},
   "outputs": [],
   "source": [
    "## FUNCTION\n",
    "def sum_our_age(age_father, age_son=10):\n",
    "    # intro\n",
    "    # print(\"Age: \", age_father + age_son)\n",
    "    sum_age = age_father + age_son\n",
    "    return sum_age"
   ]
  },
  {
   "cell_type": "code",
   "execution_count": 21,
   "id": "ca2fe81a-a04a-460a-913c-92aa3c04141f",
   "metadata": {},
   "outputs": [
    {
     "data": {
      "text/plain": [
       "85"
      ]
     },
     "execution_count": 21,
     "metadata": {},
     "output_type": "execute_result"
    }
   ],
   "source": [
    "sum = sum_our_age(60, 25)\n",
    "sum"
   ]
  },
  {
   "cell_type": "code",
   "execution_count": 22,
   "id": "3629c651-e681-4e23-b3a4-b5037b19a92d",
   "metadata": {},
   "outputs": [
    {
     "ename": "TypeError",
     "evalue": "sum_our_age() missing 1 required positional argument: 'age_son'",
     "output_type": "error",
     "traceback": [
      "\u001b[1;31m---------------------------------------------------------------------------\u001b[0m",
      "\u001b[1;31mTypeError\u001b[0m                                 Traceback (most recent call last)",
      "Cell \u001b[1;32mIn[22], line 1\u001b[0m\n\u001b[1;32m----> 1\u001b[0m \u001b[38;5;28msum\u001b[39m \u001b[38;5;241m=\u001b[39m sum_our_age(\u001b[38;5;241m60\u001b[39m)\n\u001b[0;32m      2\u001b[0m \u001b[38;5;28msum\u001b[39m\n",
      "\u001b[1;31mTypeError\u001b[0m: sum_our_age() missing 1 required positional argument: 'age_son'"
     ]
    }
   ],
   "source": [
    "sum = sum_our_age(60)\n",
    "sum"
   ]
  },
  {
   "cell_type": "code",
   "execution_count": 23,
   "id": "2b5c71ad-db95-471d-95e1-c96eaa67af43",
   "metadata": {},
   "outputs": [
    {
     "data": {
      "text/plain": [
       "64"
      ]
     },
     "execution_count": 23,
     "metadata": {},
     "output_type": "execute_result"
    }
   ],
   "source": [
    "sum = sum_our_age(age_son=24, age_father=40)\n",
    "sum"
   ]
  },
  {
   "cell_type": "code",
   "execution_count": 25,
   "id": "818cb69d-8ad1-4b8b-b41f-12e84410f665",
   "metadata": {},
   "outputs": [
    {
     "data": {
      "text/plain": [
       "70"
      ]
     },
     "execution_count": 25,
     "metadata": {},
     "output_type": "execute_result"
    }
   ],
   "source": [
    "sum = sum_our_age(60)\n",
    "sum"
   ]
  },
  {
   "cell_type": "code",
   "execution_count": 26,
   "id": "46268e05-253f-4b76-8783-3f43896f15fc",
   "metadata": {},
   "outputs": [
    {
     "name": "stdout",
     "output_type": "stream",
     "text": [
      "<class 'tuple'>\n",
      "173\n"
     ]
    }
   ],
   "source": [
    "def add(*args):\n",
    "    print(type(args))\n",
    "    tmp = 0\n",
    "    for number in args:\n",
    "        tmp = tmp + number\n",
    "    return tmp\n",
    "temp = add(1, 2, 22, 12, 17, 21, 98)\n",
    "print(temp)"
   ]
  },
  {
   "cell_type": "code",
   "execution_count": 30,
   "id": "d70959c2-e502-4d8a-8d8d-d632f31ee6d9",
   "metadata": {},
   "outputs": [
    {
     "name": "stdout",
     "output_type": "stream",
     "text": [
      "The name of my country is Bangladesh.\n"
     ]
    }
   ],
   "source": [
    "## FILE\n",
    "my_file = open('test_2.txt', 'r')\n",
    "content = my_file.read()\n",
    "print(content)\n",
    "my_file.close()"
   ]
  },
  {
   "cell_type": "code",
   "execution_count": 37,
   "id": "24815512-8ad4-4a67-b140-fe70df043d01",
   "metadata": {},
   "outputs": [],
   "source": [
    "## FILE\n",
    "my_file = open('test_2.txt', 'w')\n",
    "my_file.write(\"Bangladesh is my love.\")\n",
    "my_file.close()"
   ]
  },
  {
   "cell_type": "code",
   "execution_count": 32,
   "id": "c390bacb-16c2-4034-ae93-660468f2b239",
   "metadata": {},
   "outputs": [
    {
     "name": "stdout",
     "output_type": "stream",
     "text": [
      "Bangladesh is my love.\n"
     ]
    }
   ],
   "source": [
    "my_file = open('test_2.txt', 'r')\n",
    "content = my_file.read()\n",
    "print(content)\n",
    "my_file.close()"
   ]
  },
  {
   "cell_type": "code",
   "execution_count": 36,
   "id": "74287e6b-b47a-4dbd-a84b-f3dd0737c3df",
   "metadata": {},
   "outputs": [],
   "source": [
    "## FILE\n",
    "my_file = open('test_2.txt', 'a')\n",
    "my_file.write(\"She is riverine.\")\n",
    "my_file.close()"
   ]
  },
  {
   "cell_type": "code",
   "execution_count": 35,
   "id": "10dbb67c-1d76-4ab7-b295-0bced9e01186",
   "metadata": {},
   "outputs": [
    {
     "name": "stdout",
     "output_type": "stream",
     "text": [
      "Bangladesh is my love.She is riverine.She is riverine.\n"
     ]
    }
   ],
   "source": [
    "my_file = open('test_2.txt', 'r')\n",
    "content = my_file.read()\n",
    "print(content)\n",
    "my_file.close()"
   ]
  },
  {
   "cell_type": "code",
   "execution_count": null,
   "id": "44a5fd3f-5373-4515-9979-684989be3282",
   "metadata": {},
   "outputs": [],
   "source": [
    "class Corolla:\n",
    "    \"\"\"Car Class\"\"\"\n",
    "    def driving(self, acceleration):\n",
    "        run_car\n",
    "    def music(self):\n",
    "        run_music\n",
    "    def horn(self):\n",
    "        make_sound\n",
    "\n",
    "first_car = Corolla() # object\n",
    "first_car.horn()"
   ]
  },
  {
   "cell_type": "code",
   "execution_count": 38,
   "id": "b202a518-ffc2-4af9-8d64-395b5dd92d87",
   "metadata": {},
   "outputs": [
    {
     "name": "stdout",
     "output_type": "stream",
     "text": [
      "Horn\n"
     ]
    }
   ],
   "source": [
    "class Corolla:\n",
    "    \"\"\"Car Class\"\"\"\n",
    "    def driving(self, acceleration):\n",
    "        print(f\"Driving at {acceleration}\")\n",
    "    def music(self):\n",
    "        print(f\"Hearing Music\")\n",
    "    def horn(self):\n",
    "        print(f\"Horn\")\n",
    "\n",
    "first_car = Corolla() # object\n",
    "first_car.horn()"
   ]
  },
  {
   "cell_type": "code",
   "execution_count": 41,
   "id": "eb1aa23c-2e22-4e77-82c9-e3dd53c82480",
   "metadata": {},
   "outputs": [
    {
     "ename": "TypeError",
     "evalue": "Corolla.driving() takes 2 positional arguments but 3 were given",
     "output_type": "error",
     "traceback": [
      "\u001b[1;31m---------------------------------------------------------------------------\u001b[0m",
      "\u001b[1;31mTypeError\u001b[0m                                 Traceback (most recent call last)",
      "Cell \u001b[1;32mIn[41], line 1\u001b[0m\n\u001b[1;32m----> 1\u001b[0m first_car\u001b[38;5;241m.\u001b[39mdriving(\u001b[38;5;241m10\u001b[39m, \u001b[38;5;241m30\u001b[39m)\n",
      "\u001b[1;31mTypeError\u001b[0m: Corolla.driving() takes 2 positional arguments but 3 were given"
     ]
    }
   ],
   "source": [
    "first_car.driving(10, 30)"
   ]
  },
  {
   "cell_type": "code",
   "execution_count": 42,
   "id": "28ff0c55-ddf9-468e-875f-66fa32c0ebed",
   "metadata": {},
   "outputs": [
    {
     "name": "stdout",
     "output_type": "stream",
     "text": [
      "Driving at 30\n"
     ]
    }
   ],
   "source": [
    "first_car.driving(30)"
   ]
  },
  {
   "cell_type": "code",
   "execution_count": null,
   "id": "dfc5962c-9f07-4beb-a862-5f5a395d4255",
   "metadata": {},
   "outputs": [],
   "source": []
  }
 ],
 "metadata": {
  "kernelspec": {
   "display_name": "Python 3 (ipykernel)",
   "language": "python",
   "name": "python3"
  },
  "language_info": {
   "codemirror_mode": {
    "name": "ipython",
    "version": 3
   },
   "file_extension": ".py",
   "mimetype": "text/x-python",
   "name": "python",
   "nbconvert_exporter": "python",
   "pygments_lexer": "ipython3",
   "version": "3.12.4"
  }
 },
 "nbformat": 4,
 "nbformat_minor": 5
}
