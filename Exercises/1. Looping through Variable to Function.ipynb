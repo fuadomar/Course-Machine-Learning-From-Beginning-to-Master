{
 "cells": [
  {
   "cell_type": "markdown",
   "metadata": {},
   "source": [
    "# 👨‍💻 Python Hands-On Assignment (Easy to Medium Level)\n",
    "\n",
    "**Topics Covered:**  \n",
    "Variables · Operators · Loops · Conditionals · Functions · File Handling"
   ]
  },
  {
   "cell_type": "markdown",
   "metadata": {},
   "source": [
    "## Level 1: Warm-Up\n",
    "Example of writing using this notebook. First tell me your Full Name, please!"
   ]
  },
  {
   "cell_type": "code",
   "execution_count": null,
   "metadata": {},
   "outputs": [],
   "source": [
    "student_name = input(\"Enter your name: \")\n",
    "student_name"
   ]
  },
  {
   "cell_type": "markdown",
   "metadata": {},
   "source": [
    "### 1. Greet the User\n",
    "Write a function `greet_user()` that asks the user for their name and prints a welcome message."
   ]
  },
  {
   "cell_type": "code",
   "execution_count": null,
   "metadata": {},
   "outputs": [
    {
     "name": "stdout",
     "output_type": "stream",
     "text": [
      "Testing greet_user function...\n",
      "Hello, Utshab! Welcome to the program.\n"
     ]
    }
   ],
   "source": [
    "# Your code here\n",
    "def greet_user():\n",
    "    \"\"\"\n",
    "    This function prints a greeting message to the user.\n",
    "    \"\"\"\n",
    "    name = input(\"Please enter your name: \")\n",
    "    print(f\"Hello, {name}! Welcome to the program.\")\n",
    "\n",
    "# Test function. \n",
    "if __name__ == \"__main__\":\n",
    "    print(\"Testing greet_user function...\")\n",
    "    greet_user()"
   ]
  },
  {
   "cell_type": "markdown",
   "metadata": {},
   "source": [
    "### 2. Area Calculator\n",
    "Create a function `calculate_area(length, width)` that returns the area of a rectangle."
   ]
  },
  {
   "cell_type": "code",
   "execution_count": null,
   "metadata": {},
   "outputs": [],
   "source": [
    "# Your code here\n",
    "def calculate_area(length, width):\n",
    "    pass # Write your code here\n",
    "\n",
    "# Test function. Don't modify this.\n",
    "if __name__ == \"__main__\":\n",
    "    area = calculate_area(15, 4) \n",
    "    print(area) # Expected output: 60"
   ]
  },
  {
   "cell_type": "markdown",
   "metadata": {},
   "source": [
    "## Level 2: Conditionals and Loops"
   ]
  },
  {
   "cell_type": "markdown",
   "metadata": {},
   "source": [
    "### 3. Even or Odd Checker\n",
    "Ask the user for a number and check whether it is even or odd."
   ]
  },
  {
   "cell_type": "code",
   "execution_count": null,
   "metadata": {},
   "outputs": [],
   "source": [
    "# Your code here"
   ]
  },
  {
   "cell_type": "markdown",
   "metadata": {},
   "source": [
    "### 4. Multiplication Table Generator\n",
    "Write a function `print_table(n)` that prints the multiplication table of `n` up to 10."
   ]
  },
  {
   "cell_type": "code",
   "execution_count": null,
   "metadata": {},
   "outputs": [],
   "source": [
    "# Your code here\n",
    "def print_table(n):\n",
    "    pass # Write your code here\n",
    "\n",
    "# Test function. Don't modify this.\n",
    "if __name__ == \"__main__\":\n",
    "    print_table(10) \n",
    "    \"\"\"\n",
    "    Expected output: \n",
    "    10 x 1 = 10\n",
    "    10 x 2 = 20\n",
    "    ...\n",
    "    10 x 10 = 100\n",
    "    \"\"\""
   ]
  },
  {
   "cell_type": "markdown",
   "metadata": {},
   "source": [
    "### 5. Password Strength Checker\n",
    "Ask the user to enter a password and check if it is strong based on given conditions:\n",
    "- It should contain at least:\n",
    "    - one capital letter\n",
    "    - one small letter\n",
    "    - one digit"
   ]
  },
  {
   "cell_type": "code",
   "execution_count": null,
   "metadata": {},
   "outputs": [],
   "source": [
    "# Your code here"
   ]
  },
  {
   "cell_type": "markdown",
   "metadata": {},
   "source": [
    "## Level 3: Loop + Function"
   ]
  },
  {
   "cell_type": "markdown",
   "metadata": {},
   "source": [
    "### 6. Prime Number Finder\n",
    "Create a function `is_prime(n)` and print all prime numbers from 1 to 100."
   ]
  },
  {
   "cell_type": "code",
   "execution_count": null,
   "metadata": {},
   "outputs": [],
   "source": [
    "# Your code here"
   ]
  },
  {
   "cell_type": "markdown",
   "metadata": {},
   "source": [
    "## Level 4: File Handling"
   ]
  },
  {
   "cell_type": "markdown",
   "metadata": {},
   "source": [
    "### 7. Write to File: Shopping List\n",
    "Ask the user for 5 shopping items and write them to a file `shopping_list.txt`."
   ]
  },
  {
   "cell_type": "code",
   "execution_count": null,
   "metadata": {},
   "outputs": [],
   "source": [
    "# Your code here"
   ]
  },
  {
   "cell_type": "markdown",
   "metadata": {},
   "source": [
    "### 8. Read and Count Words\n",
    "Read a file `sample.txt` and count the number of words in it."
   ]
  },
  {
   "cell_type": "code",
   "execution_count": null,
   "metadata": {},
   "outputs": [],
   "source": [
    "# Your code here"
   ]
  },
  {
   "cell_type": "markdown",
   "metadata": {},
   "source": [
    "## Level 5: Integration Challenge"
   ]
  },
  {
   "cell_type": "markdown",
   "metadata": {},
   "source": [
    "### 9. Student Gradebook\n",
    "- Ask for the number of students\n",
    "- Get each student's name and marks\n",
    "- Store them in a dictionary\n",
    "- Write name and \"Pass\" or \"Fail\" to `grades.txt` (Pass if marks ≥ 40)"
   ]
  },
  {
   "cell_type": "code",
   "execution_count": null,
   "metadata": {},
   "outputs": [],
   "source": [
    "# Your code here"
   ]
  },
  {
   "cell_type": "markdown",
   "metadata": {},
   "source": [
    "## Level 6: Programming Challenges (Bonus)"
   ]
  },
  {
   "cell_type": "markdown",
   "metadata": {},
   "source": [
    "### 10. Leetcode\n",
    "Follow the below links and solve as many as you can. Provide you submission links."
   ]
  },
  {
   "cell_type": "code",
   "execution_count": null,
   "metadata": {},
   "outputs": [],
   "source": [
    "# Problem 1. https://leetcode.com/problems/defanging-an-ip-address/description/\n",
    "pass # your submission link/code here\n",
    "\n",
    "# Problem 2. https://leetcode.com/problems/valid-parentheses/\n",
    "pass # your submission link/code here\n",
    "\n",
    "# Problem 3. https://leetcode.com/problems/merge-two-sorted-lists/\n",
    "pass # your submission link/code here\n",
    "\n",
    "# Problem 4. https://leetcode.com/problems/jewels-and-stones/description/\n",
    "pass # your submission link/code here\n",
    "\n",
    "# Problem 5. https://leetcode.com/problems/longest-common-prefix/\n",
    "pass # your submission link/code here"
   ]
  }
 ],
 "metadata": {
  "kernelspec": {
   "display_name": "Python 3",
   "language": "python",
   "name": "python3"
  },
  "language_info": {
   "codemirror_mode": {
    "name": "ipython",
    "version": 3
   },
   "file_extension": ".py",
   "mimetype": "text/x-python",
   "name": "python",
   "nbconvert_exporter": "python",
   "pygments_lexer": "ipython3",
   "version": "3.8.10"
  }
 },
 "nbformat": 4,
 "nbformat_minor": 2
}
