{
 "cells": [
  {
   "cell_type": "markdown",
   "id": "9dedfe2e-361b-47b5-b035-f9df22d23bb0",
   "metadata": {},
   "source": [
    "### Data Input/Output, Variable"
   ]
  },
  {
   "cell_type": "code",
   "execution_count": 1,
   "id": "8cf44c3e-4c91-4fd1-a5cb-a168ae17efc2",
   "metadata": {},
   "outputs": [
    {
     "name": "stdout",
     "output_type": "stream",
     "text": [
      "Hello Nascenia!\n"
     ]
    }
   ],
   "source": [
    "print(\"Hello Nascenia!\")"
   ]
  },
  {
   "cell_type": "code",
   "execution_count": 2,
   "id": "252c91b5-3563-4227-bcc4-1d2f257e9173",
   "metadata": {},
   "outputs": [
    {
     "data": {
      "text/plain": [
       "5"
      ]
     },
     "execution_count": 2,
     "metadata": {},
     "output_type": "execute_result"
    }
   ],
   "source": [
    "3+2"
   ]
  },
  {
   "cell_type": "code",
   "execution_count": 5,
   "id": "0fe28e26-d774-4177-8457-84dc39ae3ad1",
   "metadata": {},
   "outputs": [
    {
     "data": {
      "text/plain": [
       "'Ghosh'"
      ]
     },
     "execution_count": 5,
     "metadata": {},
     "output_type": "execute_result"
    }
   ],
   "source": [
    "x = \"Ghosh\"\n",
    "x"
   ]
  },
  {
   "cell_type": "code",
   "execution_count": 11,
   "id": "b2572546-b538-4a4c-9d4b-17fe8054dad1",
   "metadata": {},
   "outputs": [
    {
     "data": {
      "text/plain": [
       "str"
      ]
     },
     "execution_count": 11,
     "metadata": {},
     "output_type": "execute_result"
    }
   ],
   "source": [
    "type(x)"
   ]
  },
  {
   "cell_type": "code",
   "execution_count": 8,
   "id": "561f875d-bb06-4077-b5e9-9fa79e3cae50",
   "metadata": {},
   "outputs": [
    {
     "data": {
      "text/plain": [
       "40"
      ]
     },
     "execution_count": 8,
     "metadata": {},
     "output_type": "execute_result"
    }
   ],
   "source": [
    "a = 40\n",
    "a"
   ]
  },
  {
   "cell_type": "code",
   "execution_count": 12,
   "id": "7bca30a2-b4e7-4b55-b970-ca5aa1121f7c",
   "metadata": {},
   "outputs": [
    {
     "data": {
      "text/plain": [
       "int"
      ]
     },
     "execution_count": 12,
     "metadata": {},
     "output_type": "execute_result"
    }
   ],
   "source": [
    "type(a)"
   ]
  },
  {
   "cell_type": "code",
   "execution_count": 10,
   "id": "a4eb4b7f-8441-4280-ab78-20ff46bde02c",
   "metadata": {},
   "outputs": [
    {
     "data": {
      "text/plain": [
       "40.3"
      ]
     },
     "execution_count": 10,
     "metadata": {},
     "output_type": "execute_result"
    }
   ],
   "source": [
    "b = 40.3\n",
    "b"
   ]
  },
  {
   "cell_type": "code",
   "execution_count": 13,
   "id": "3b5ba75b-eae9-43fd-9dba-a1a9626a419e",
   "metadata": {},
   "outputs": [
    {
     "data": {
      "text/plain": [
       "float"
      ]
     },
     "execution_count": 13,
     "metadata": {},
     "output_type": "execute_result"
    }
   ],
   "source": [
    "type(b)"
   ]
  },
  {
   "cell_type": "code",
   "execution_count": 14,
   "id": "5210d07f-6747-46b0-a941-ba80a73a6729",
   "metadata": {},
   "outputs": [
    {
     "data": {
      "text/plain": [
       "bool"
      ]
     },
     "execution_count": 14,
     "metadata": {},
     "output_type": "execute_result"
    }
   ],
   "source": [
    "a = True\n",
    "type(a)"
   ]
  },
  {
   "cell_type": "code",
   "execution_count": 15,
   "id": "215d629b-e5f5-448b-8360-2f72c2c56c74",
   "metadata": {},
   "outputs": [
    {
     "name": "stdin",
     "output_type": "stream",
     "text": [
      " 12\n"
     ]
    }
   ],
   "source": [
    "data_input = input()"
   ]
  },
  {
   "cell_type": "code",
   "execution_count": 16,
   "id": "933fbb0f-9077-4103-bd64-122251189b5b",
   "metadata": {},
   "outputs": [
    {
     "data": {
      "text/plain": [
       "'12'"
      ]
     },
     "execution_count": 16,
     "metadata": {},
     "output_type": "execute_result"
    }
   ],
   "source": [
    "data_input"
   ]
  },
  {
   "cell_type": "code",
   "execution_count": 17,
   "id": "523a824c-82b9-405a-a90b-d5d8c621c508",
   "metadata": {},
   "outputs": [
    {
     "data": {
      "text/plain": [
       "str"
      ]
     },
     "execution_count": 17,
     "metadata": {},
     "output_type": "execute_result"
    }
   ],
   "source": [
    "type(data_input)"
   ]
  },
  {
   "cell_type": "code",
   "execution_count": 18,
   "id": "d8de9863-cfc9-4b55-838b-ba0089277a1a",
   "metadata": {},
   "outputs": [
    {
     "name": "stdin",
     "output_type": "stream",
     "text": [
      " 2\n"
     ]
    },
    {
     "ename": "TypeError",
     "evalue": "can't multiply sequence by non-int of type 'str'",
     "output_type": "error",
     "traceback": [
      "\u001b[1;31m---------------------------------------------------------------------------\u001b[0m",
      "\u001b[1;31mTypeError\u001b[0m                                 Traceback (most recent call last)",
      "Cell \u001b[1;32mIn[18], line 3\u001b[0m\n\u001b[0;32m      1\u001b[0m data_input_2 \u001b[38;5;241m=\u001b[39m \u001b[38;5;28minput\u001b[39m()\n\u001b[1;32m----> 3\u001b[0m data_input \u001b[38;5;241m*\u001b[39m data_input_2\n",
      "\u001b[1;31mTypeError\u001b[0m: can't multiply sequence by non-int of type 'str'"
     ]
    }
   ],
   "source": [
    "data_input_2 = input()\n",
    "\n",
    "data_input * data_input_2"
   ]
  },
  {
   "cell_type": "code",
   "execution_count": 21,
   "id": "e6d30b22-ee54-40db-84b6-ce88585c1ce3",
   "metadata": {},
   "outputs": [
    {
     "name": "stdin",
     "output_type": "stream",
     "text": [
      " 100\n"
     ]
    },
    {
     "data": {
      "text/plain": [
       "float"
      ]
     },
     "execution_count": 21,
     "metadata": {},
     "output_type": "execute_result"
    }
   ],
   "source": [
    "data_input = float(input())\n",
    "\n",
    "type(data_input)"
   ]
  },
  {
   "cell_type": "code",
   "execution_count": 22,
   "id": "0f6efc7f-e3d1-4e41-979a-448b4e3766a8",
   "metadata": {},
   "outputs": [
    {
     "data": {
      "text/plain": [
       "100.0"
      ]
     },
     "execution_count": 22,
     "metadata": {},
     "output_type": "execute_result"
    }
   ],
   "source": [
    "data_input"
   ]
  },
  {
   "cell_type": "code",
   "execution_count": 24,
   "id": "7124dde3-e37e-4982-8e64-4b251e937249",
   "metadata": {},
   "outputs": [
    {
     "name": "stdin",
     "output_type": "stream",
     "text": [
      " team009\n"
     ]
    },
    {
     "ename": "ValueError",
     "evalue": "could not convert string to float: 'team009'",
     "output_type": "error",
     "traceback": [
      "\u001b[1;31m---------------------------------------------------------------------------\u001b[0m",
      "\u001b[1;31mValueError\u001b[0m                                Traceback (most recent call last)",
      "Cell \u001b[1;32mIn[24], line 1\u001b[0m\n\u001b[1;32m----> 1\u001b[0m \u001b[38;5;28mfloat\u001b[39m(\u001b[38;5;28minput\u001b[39m())\n",
      "\u001b[1;31mValueError\u001b[0m: could not convert string to float: 'team009'"
     ]
    }
   ],
   "source": [
    "float(input())"
   ]
  },
  {
   "cell_type": "code",
   "execution_count": 25,
   "id": "16e2ae79-07a9-424f-9619-3f5a434431a0",
   "metadata": {},
   "outputs": [
    {
     "name": "stdin",
     "output_type": "stream",
     "text": [
      " 2 3\n"
     ]
    }
   ],
   "source": [
    "a, b = input().split()"
   ]
  },
  {
   "cell_type": "code",
   "execution_count": 26,
   "id": "c89d9564-b8aa-4be0-9291-785a0ecb3ac5",
   "metadata": {},
   "outputs": [
    {
     "data": {
      "text/plain": [
       "'2'"
      ]
     },
     "execution_count": 26,
     "metadata": {},
     "output_type": "execute_result"
    }
   ],
   "source": [
    "a"
   ]
  },
  {
   "cell_type": "code",
   "execution_count": 27,
   "id": "ded0cc13-228e-43f0-882e-6cf97ada63ca",
   "metadata": {},
   "outputs": [
    {
     "data": {
      "text/plain": [
       "'3'"
      ]
     },
     "execution_count": 27,
     "metadata": {},
     "output_type": "execute_result"
    }
   ],
   "source": [
    "b"
   ]
  },
  {
   "cell_type": "markdown",
   "id": "4a22ecd6-daef-43a0-b0f0-dad8daa70906",
   "metadata": {},
   "source": [
    "### Operator"
   ]
  },
  {
   "cell_type": "code",
   "execution_count": 28,
   "id": "ee46b491-00db-4ff4-bbd3-c60a5969607c",
   "metadata": {},
   "outputs": [
    {
     "data": {
      "text/plain": [
       "5.0"
      ]
     },
     "execution_count": 28,
     "metadata": {},
     "output_type": "execute_result"
    }
   ],
   "source": [
    "10/2"
   ]
  },
  {
   "cell_type": "code",
   "execution_count": 29,
   "id": "e9d877c9-3d65-457b-b053-31ddf002cc49",
   "metadata": {},
   "outputs": [
    {
     "data": {
      "text/plain": [
       "3.3333333333333335"
      ]
     },
     "execution_count": 29,
     "metadata": {},
     "output_type": "execute_result"
    }
   ],
   "source": [
    "10/3"
   ]
  },
  {
   "cell_type": "code",
   "execution_count": 32,
   "id": "9cf4929b-cb2b-4449-91c4-c10336fe38d6",
   "metadata": {},
   "outputs": [
    {
     "data": {
      "text/plain": [
       "3"
      ]
     },
     "execution_count": 32,
     "metadata": {},
     "output_type": "execute_result"
    }
   ],
   "source": [
    "10//3"
   ]
  },
  {
   "cell_type": "code",
   "execution_count": 33,
   "id": "f7c96b39-e199-414a-85fd-f15fc93dcb27",
   "metadata": {},
   "outputs": [
    {
     "data": {
      "text/plain": [
       "100"
      ]
     },
     "execution_count": 33,
     "metadata": {},
     "output_type": "execute_result"
    }
   ],
   "source": [
    "10**2"
   ]
  },
  {
   "cell_type": "code",
   "execution_count": 34,
   "id": "1d98c5cc-68b5-42d4-bc5a-c825885764e3",
   "metadata": {},
   "outputs": [
    {
     "data": {
      "text/plain": [
       "True"
      ]
     },
     "execution_count": 34,
     "metadata": {},
     "output_type": "execute_result"
    }
   ],
   "source": [
    "2==2"
   ]
  },
  {
   "cell_type": "code",
   "execution_count": 35,
   "id": "19218480-96d4-414f-b6fc-90f36e23e42f",
   "metadata": {},
   "outputs": [
    {
     "data": {
      "text/plain": [
       "False"
      ]
     },
     "execution_count": 35,
     "metadata": {},
     "output_type": "execute_result"
    }
   ],
   "source": [
    "2==3"
   ]
  },
  {
   "cell_type": "code",
   "execution_count": 37,
   "id": "717c2a90-f52a-4d61-92d3-6738d2488777",
   "metadata": {},
   "outputs": [
    {
     "data": {
      "text/plain": [
       "True"
      ]
     },
     "execution_count": 37,
     "metadata": {},
     "output_type": "execute_result"
    }
   ],
   "source": [
    "2!=3"
   ]
  },
  {
   "cell_type": "code",
   "execution_count": 38,
   "id": "4055b2bd-027f-42ad-9a3a-6834f8383679",
   "metadata": {},
   "outputs": [
    {
     "data": {
      "text/plain": [
       "False"
      ]
     },
     "execution_count": 38,
     "metadata": {},
     "output_type": "execute_result"
    }
   ],
   "source": [
    "5 < 3"
   ]
  },
  {
   "cell_type": "code",
   "execution_count": 39,
   "id": "ddd7af94-0f1c-4524-9de9-5505298ee505",
   "metadata": {},
   "outputs": [
    {
     "data": {
      "text/plain": [
       "True"
      ]
     },
     "execution_count": 39,
     "metadata": {},
     "output_type": "execute_result"
    }
   ],
   "source": [
    "5>3"
   ]
  },
  {
   "cell_type": "code",
   "execution_count": 42,
   "id": "d1fe37d8-e18e-40b0-b73b-e9556df8e21d",
   "metadata": {},
   "outputs": [
    {
     "name": "stdout",
     "output_type": "stream",
     "text": [
      "100\n",
      "10.0\n"
     ]
    }
   ],
   "source": [
    "a = 100\n",
    "print(a)\n",
    "a /= 10\n",
    "print(a)"
   ]
  },
  {
   "cell_type": "code",
   "execution_count": 48,
   "id": "a67dfb97-6814-4d83-8e52-3776027524c4",
   "metadata": {},
   "outputs": [
    {
     "data": {
      "text/plain": [
       "False"
      ]
     },
     "execution_count": 48,
     "metadata": {},
     "output_type": "execute_result"
    }
   ],
   "source": [
    "not 2 == 2"
   ]
  },
  {
   "cell_type": "code",
   "execution_count": 50,
   "id": "382cfdbc-88db-4df8-a496-88318fb26f2a",
   "metadata": {},
   "outputs": [
    {
     "data": {
      "text/plain": [
       "False"
      ]
     },
     "execution_count": 50,
     "metadata": {},
     "output_type": "execute_result"
    }
   ],
   "source": [
    "5==5 and 6==7"
   ]
  },
  {
   "cell_type": "code",
   "execution_count": 55,
   "id": "aa31bcc3-8bd6-4c4a-aca8-2303d734a718",
   "metadata": {},
   "outputs": [],
   "source": [
    "string_1 = 'bangla'\n",
    "string_2 = \"des'h'\""
   ]
  },
  {
   "cell_type": "code",
   "execution_count": 54,
   "id": "0995ad8d-12c6-48be-83fb-f3478cf2bea8",
   "metadata": {},
   "outputs": [
    {
     "name": "stdout",
     "output_type": "stream",
     "text": [
      "bangladesh is a \"country\"\n"
     ]
    }
   ],
   "source": [
    "print(\"bangladesh is a \\\"country\\\"\")"
   ]
  },
  {
   "cell_type": "code",
   "execution_count": 57,
   "id": "06b6095a-cdf6-4725-8407-5aa5e4733843",
   "metadata": {},
   "outputs": [
    {
     "name": "stdout",
     "output_type": "stream",
     "text": [
      "des'h'\n"
     ]
    }
   ],
   "source": [
    "print(string_2)"
   ]
  },
  {
   "cell_type": "code",
   "execution_count": 58,
   "id": "347a1363-8f2f-456e-95ad-c108aeef45d8",
   "metadata": {},
   "outputs": [
    {
     "data": {
      "text/plain": [
       "'b'"
      ]
     },
     "execution_count": 58,
     "metadata": {},
     "output_type": "execute_result"
    }
   ],
   "source": [
    "string_1[0]"
   ]
  },
  {
   "cell_type": "code",
   "execution_count": 59,
   "id": "3c5667e1-4b67-4771-8308-c74638400676",
   "metadata": {},
   "outputs": [
    {
     "data": {
      "text/plain": [
       "'a'"
      ]
     },
     "execution_count": 59,
     "metadata": {},
     "output_type": "execute_result"
    }
   ],
   "source": [
    "string_1[5]"
   ]
  },
  {
   "cell_type": "code",
   "execution_count": 61,
   "id": "0d306e3c-a2c1-41f5-bb7a-2b44366bb40b",
   "metadata": {},
   "outputs": [
    {
     "data": {
      "text/plain": [
       "'ngl'"
      ]
     },
     "execution_count": 61,
     "metadata": {},
     "output_type": "execute_result"
    }
   ],
   "source": [
    "string_1[2:5]"
   ]
  },
  {
   "cell_type": "code",
   "execution_count": 62,
   "id": "c42900d9-a72f-4d5a-9239-aa3a9389d5c8",
   "metadata": {},
   "outputs": [
    {
     "data": {
      "text/plain": [
       "'bangl'"
      ]
     },
     "execution_count": 62,
     "metadata": {},
     "output_type": "execute_result"
    }
   ],
   "source": [
    "string_1[:5]"
   ]
  },
  {
   "cell_type": "code",
   "execution_count": 63,
   "id": "b2efe07e-82f0-4bd6-9888-b93fd3045ac9",
   "metadata": {},
   "outputs": [
    {
     "data": {
      "text/plain": [
       "'ngla'"
      ]
     },
     "execution_count": 63,
     "metadata": {},
     "output_type": "execute_result"
    }
   ],
   "source": [
    "string_1[2:]"
   ]
  },
  {
   "cell_type": "code",
   "execution_count": 64,
   "id": "2d2ebea4-52e6-4d68-9abf-c8d34468c64d",
   "metadata": {},
   "outputs": [
    {
     "data": {
      "text/plain": [
       "'bangla'"
      ]
     },
     "execution_count": 64,
     "metadata": {},
     "output_type": "execute_result"
    }
   ],
   "source": [
    "string_1[:]"
   ]
  },
  {
   "cell_type": "code",
   "execution_count": 65,
   "id": "a61f068c-6b79-4305-b730-7db3bb17aea4",
   "metadata": {},
   "outputs": [],
   "source": [
    "st = 'shortcut'"
   ]
  },
  {
   "cell_type": "code",
   "execution_count": 67,
   "id": "432dab95-432f-4073-a010-bba397e90404",
   "metadata": {},
   "outputs": [
    {
     "data": {
      "text/plain": [
       "'u'"
      ]
     },
     "execution_count": 67,
     "metadata": {},
     "output_type": "execute_result"
    }
   ],
   "source": [
    "st[-2]"
   ]
  },
  {
   "cell_type": "code",
   "execution_count": 68,
   "id": "595f1fb4-69e0-42fc-bae3-39dd2f369373",
   "metadata": {},
   "outputs": [
    {
     "name": "stdout",
     "output_type": "stream",
     "text": [
      "I want to pass exams by  shortcut\n"
     ]
    }
   ],
   "source": [
    "print(\"I want to pass exams by \", st)"
   ]
  },
  {
   "cell_type": "code",
   "execution_count": 70,
   "id": "65c2904f-910c-44c1-a35d-0fb1126cd4a9",
   "metadata": {},
   "outputs": [
    {
     "name": "stdout",
     "output_type": "stream",
     "text": [
      "I want to pass by shortcut in exams.\n"
     ]
    }
   ],
   "source": [
    "print(\"I want to pass by\", st, \"in exams.\")"
   ]
  },
  {
   "cell_type": "code",
   "execution_count": 72,
   "id": "a7ed5e99-d69c-4088-94e2-e9f90d4a3d4d",
   "metadata": {},
   "outputs": [
    {
     "name": "stdout",
     "output_type": "stream",
     "text": [
      "I want to pass by shortcut in exams.\n"
     ]
    }
   ],
   "source": [
    "print(f\"I want to pass by {st} in exams.\")"
   ]
  },
  {
   "cell_type": "code",
   "execution_count": 73,
   "id": "dd640a8f-b2a9-4f71-a2d5-33dd71d6ba41",
   "metadata": {},
   "outputs": [
    {
     "name": "stdout",
     "output_type": "stream",
     "text": [
      "436.982371237127\n"
     ]
    }
   ],
   "source": [
    "number = 436.982371237127\n",
    "print(number)"
   ]
  },
  {
   "cell_type": "code",
   "execution_count": 75,
   "id": "27c37791-9b40-4616-8526-cf1334f39010",
   "metadata": {},
   "outputs": [
    {
     "name": "stdout",
     "output_type": "stream",
     "text": [
      "436.98\n"
     ]
    }
   ],
   "source": [
    "print(\"%.2f\" %number)"
   ]
  },
  {
   "cell_type": "code",
   "execution_count": 79,
   "id": "7a812a22-d5f7-4c41-90bb-c429861ec6d3",
   "metadata": {},
   "outputs": [
    {
     "data": {
      "text/plain": [
       "'bangla-desh'"
      ]
     },
     "execution_count": 79,
     "metadata": {},
     "output_type": "execute_result"
    }
   ],
   "source": [
    "string_1 = \"bangla\"\n",
    "string_2 = \"desh\"\n",
    "\n",
    "string_1 + \"-\" + string_2"
   ]
  },
  {
   "cell_type": "code",
   "execution_count": 82,
   "id": "3d6e8896-5c14-497b-bb30-a7e256638ec9",
   "metadata": {},
   "outputs": [
    {
     "ename": "TypeError",
     "evalue": "str.join() takes exactly one argument (3 given)",
     "output_type": "error",
     "traceback": [
      "\u001b[1;31m---------------------------------------------------------------------------\u001b[0m",
      "\u001b[1;31mTypeError\u001b[0m                                 Traceback (most recent call last)",
      "Cell \u001b[1;32mIn[82], line 5\u001b[0m\n\u001b[0;32m      2\u001b[0m string_2 \u001b[38;5;241m=\u001b[39m \u001b[38;5;124m\"\u001b[39m\u001b[38;5;124mdesh\u001b[39m\u001b[38;5;124m\"\u001b[39m\n\u001b[0;32m      3\u001b[0m string_3 \u001b[38;5;241m=\u001b[39m \u001b[38;5;124m\"\u001b[39m\u001b[38;5;124mdigital\u001b[39m\u001b[38;5;124m\"\u001b[39m\n\u001b[1;32m----> 5\u001b[0m \u001b[38;5;124m\"\u001b[39m\u001b[38;5;124m-\u001b[39m\u001b[38;5;124m\"\u001b[39m\u001b[38;5;241m.\u001b[39mjoin(string_3, string_3, string_2)\n",
      "\u001b[1;31mTypeError\u001b[0m: str.join() takes exactly one argument (3 given)"
     ]
    }
   ],
   "source": [
    "string_1 = \"bangla\"\n",
    "string_2 = \"desh\"\n",
    "string_3 = \"digital\"\n",
    "\n",
    "\"-\".join(string_3, string_1, string_2)"
   ]
  },
  {
   "cell_type": "code",
   "execution_count": 83,
   "id": "248ce168-098f-4d3f-a036-99c4978e6195",
   "metadata": {},
   "outputs": [
    {
     "data": {
      "text/plain": [
       "'digital-bangla-desh'"
      ]
     },
     "execution_count": 83,
     "metadata": {},
     "output_type": "execute_result"
    }
   ],
   "source": [
    "\"-\".join((string_3, string_1, string_2))"
   ]
  },
  {
   "cell_type": "code",
   "execution_count": 84,
   "id": "5f189ff5-4d23-4b02-9b74-ffabe77041ba",
   "metadata": {},
   "outputs": [
    {
     "data": {
      "text/plain": [
       "'Bangla'"
      ]
     },
     "execution_count": 84,
     "metadata": {},
     "output_type": "execute_result"
    }
   ],
   "source": [
    "string_1.capitalize()"
   ]
  },
  {
   "cell_type": "raw",
   "id": "d0ea4ce5-0e7e-4838-a317-d4d4e08fc116",
   "metadata": {},
   "source": [
    "string_1.upper()"
   ]
  },
  {
   "cell_type": "code",
   "execution_count": 86,
   "id": "b44e1d2b-75aa-47d3-bc1d-d0d0e698190c",
   "metadata": {},
   "outputs": [
    {
     "data": {
      "text/plain": [
       "6"
      ]
     },
     "execution_count": 86,
     "metadata": {},
     "output_type": "execute_result"
    }
   ],
   "source": [
    "len(string_1)"
   ]
  },
  {
   "cell_type": "code",
   "execution_count": 88,
   "id": "b2860ce9-c4e5-4c38-8527-2ab8504a596f",
   "metadata": {},
   "outputs": [
    {
     "data": {
      "text/plain": [
       "0"
      ]
     },
     "execution_count": 88,
     "metadata": {},
     "output_type": "execute_result"
    }
   ],
   "source": [
    "string_1.count('A')"
   ]
  },
  {
   "cell_type": "code",
   "execution_count": 90,
   "id": "4865274c-9b5f-471a-9cb3-cad9e8187e8c",
   "metadata": {},
   "outputs": [
    {
     "data": {
      "text/plain": [
       "'bznglz'"
      ]
     },
     "execution_count": 90,
     "metadata": {},
     "output_type": "execute_result"
    }
   ],
   "source": [
    "temp = string_1.replace('a', 'z')\n",
    "temp"
   ]
  },
  {
   "cell_type": "markdown",
   "id": "b62a486a-f20a-46bf-98a7-47dbe53234d2",
   "metadata": {},
   "source": [
    "### Data Structure"
   ]
  },
  {
   "cell_type": "code",
   "execution_count": 96,
   "id": "6415eabb-c7cb-4486-bb94-3d44dfc3f221",
   "metadata": {},
   "outputs": [
    {
     "data": {
      "text/plain": [
       "list"
      ]
     },
     "execution_count": 96,
     "metadata": {},
     "output_type": "execute_result"
    }
   ],
   "source": [
    "a = ['onion', 'potato', 'ginger', 1, 3.4, True, [1, 2,3]]\n",
    "type(a)"
   ]
  },
  {
   "cell_type": "code",
   "execution_count": 95,
   "id": "804dfe4e-6f29-4e8e-8c6f-c22ec42b80a4",
   "metadata": {},
   "outputs": [
    {
     "data": {
      "text/plain": [
       "'nio'"
      ]
     },
     "execution_count": 95,
     "metadata": {},
     "output_type": "execute_result"
    }
   ],
   "source": [
    "a[0][1:-1]"
   ]
  },
  {
   "cell_type": "code",
   "execution_count": 98,
   "id": "f3f87619-289c-4afd-a49c-1fe209d1f614",
   "metadata": {},
   "outputs": [
    {
     "data": {
      "text/plain": [
       "1"
      ]
     },
     "execution_count": 98,
     "metadata": {},
     "output_type": "execute_result"
    }
   ],
   "source": [
    "a[-1][0]"
   ]
  },
  {
   "cell_type": "code",
   "execution_count": 99,
   "id": "df76e8e4-e1b2-4825-8756-199dc57b40d1",
   "metadata": {},
   "outputs": [
    {
     "data": {
      "text/plain": [
       "7"
      ]
     },
     "execution_count": 99,
     "metadata": {},
     "output_type": "execute_result"
    }
   ],
   "source": [
    "len(a)"
   ]
  },
  {
   "cell_type": "code",
   "execution_count": 103,
   "id": "687fe516-313f-4e53-ad0a-d3797b612e93",
   "metadata": {},
   "outputs": [
    {
     "ename": "IndexError",
     "evalue": "list index out of range",
     "output_type": "error",
     "traceback": [
      "\u001b[1;31m---------------------------------------------------------------------------\u001b[0m",
      "\u001b[1;31mIndexError\u001b[0m                                Traceback (most recent call last)",
      "Cell \u001b[1;32mIn[103], line 1\u001b[0m\n\u001b[1;32m----> 1\u001b[0m a[\u001b[38;5;241m7\u001b[39m]\n",
      "\u001b[1;31mIndexError\u001b[0m: list index out of range"
     ]
    }
   ],
   "source": [
    "a[7]"
   ]
  },
  {
   "cell_type": "code",
   "execution_count": 118,
   "id": "3a2eed1d-f921-46f1-9add-e18b3fb5f0b2",
   "metadata": {},
   "outputs": [
    {
     "data": {
      "text/plain": [
       "[1, 2, 3, 4, 5]"
      ]
     },
     "execution_count": 118,
     "metadata": {},
     "output_type": "execute_result"
    }
   ],
   "source": [
    "b = [1, 2, 3, 4]\n",
    "b.append(5)\n",
    "b"
   ]
  },
  {
   "cell_type": "code",
   "execution_count": 119,
   "id": "2e784d19-6bde-43b0-8973-505707451992",
   "metadata": {},
   "outputs": [
    {
     "data": {
      "text/plain": [
       "[1, 2, 3, 4, 4.5, 5]"
      ]
     },
     "execution_count": 119,
     "metadata": {},
     "output_type": "execute_result"
    }
   ],
   "source": [
    "b.insert(4, 4.5)\n",
    "b"
   ]
  },
  {
   "cell_type": "code",
   "execution_count": 113,
   "id": "0bbf7a84-e5a3-47b1-aa4f-c7d1e2de1b9a",
   "metadata": {},
   "outputs": [
    {
     "data": {
      "text/plain": [
       "[1, 2, 3, 4, 4.5, 5, 1, 1, 10]"
      ]
     },
     "execution_count": 113,
     "metadata": {},
     "output_type": "execute_result"
    }
   ],
   "source": [
    "c += [10]\n",
    "c"
   ]
  },
  {
   "cell_type": "code",
   "execution_count": 114,
   "id": "a886bb29-1609-46dc-81ae-ad046bcec07f",
   "metadata": {},
   "outputs": [
    {
     "data": {
      "text/plain": [
       "[10, 11, 1, 2]"
      ]
     },
     "execution_count": 114,
     "metadata": {},
     "output_type": "execute_result"
    }
   ],
   "source": [
    "[10, 11] + [1, 2]"
   ]
  },
  {
   "cell_type": "code",
   "execution_count": 120,
   "id": "be21ca89-4914-4109-bfaf-972175449a9a",
   "metadata": {},
   "outputs": [
    {
     "data": {
      "text/plain": [
       "[1, 2, 3, 4, 5]"
      ]
     },
     "execution_count": 120,
     "metadata": {},
     "output_type": "execute_result"
    }
   ],
   "source": [
    "del b[4]\n",
    "b"
   ]
  },
  {
   "cell_type": "code",
   "execution_count": 122,
   "id": "899105d1-310c-4564-b79c-14de42a5bdf6",
   "metadata": {},
   "outputs": [
    {
     "data": {
      "text/plain": [
       "[1, 1, 2, 3, 1]"
      ]
     },
     "execution_count": 122,
     "metadata": {},
     "output_type": "execute_result"
    }
   ],
   "source": [
    "list3 = [1, 1, 1, 2, 3, 1]\n",
    "list3.remove(1)\n",
    "list3"
   ]
  },
  {
   "cell_type": "code",
   "execution_count": 123,
   "id": "0785c0ff-bf99-4c05-a84d-7349baff171d",
   "metadata": {},
   "outputs": [
    {
     "data": {
      "text/plain": [
       "[5, 4, 3, 2, 1]"
      ]
     },
     "execution_count": 123,
     "metadata": {},
     "output_type": "execute_result"
    }
   ],
   "source": [
    "b.reverse()\n",
    "b"
   ]
  },
  {
   "cell_type": "code",
   "execution_count": 124,
   "id": "c3b3863b-2e4a-4945-8050-65e309bfbef5",
   "metadata": {},
   "outputs": [
    {
     "data": {
      "text/plain": [
       "[1, 1, 1, 2, 3]"
      ]
     },
     "execution_count": 124,
     "metadata": {},
     "output_type": "execute_result"
    }
   ],
   "source": [
    "list3.sort()\n",
    "list3"
   ]
  },
  {
   "cell_type": "code",
   "execution_count": 127,
   "id": "acb41bc6-51c6-4261-8b8d-7ac946c41754",
   "metadata": {},
   "outputs": [
    {
     "data": {
      "text/plain": [
       "[0.5, 1, 1, 2, 3]"
      ]
     },
     "execution_count": 127,
     "metadata": {},
     "output_type": "execute_result"
    }
   ],
   "source": [
    "list3[0] = 0.5\n",
    "list3"
   ]
  },
  {
   "cell_type": "markdown",
   "id": "6bb7566c-0f90-4256-84ba-5937d398caa0",
   "metadata": {},
   "source": [
    "#### Tuple"
   ]
  },
  {
   "cell_type": "code",
   "execution_count": 125,
   "id": "e0ba6afa-b8b8-40f3-9f24-11ba830e3f0f",
   "metadata": {},
   "outputs": [
    {
     "data": {
      "text/plain": [
       "1"
      ]
     },
     "execution_count": 125,
     "metadata": {},
     "output_type": "execute_result"
    }
   ],
   "source": [
    "tpl = (1, 2, 3, 4)\n",
    "tpl[0]"
   ]
  },
  {
   "cell_type": "code",
   "execution_count": 128,
   "id": "aa3801a0-15ef-4eb6-881c-3bafd3807a80",
   "metadata": {},
   "outputs": [
    {
     "ename": "TypeError",
     "evalue": "'tuple' object does not support item assignment",
     "output_type": "error",
     "traceback": [
      "\u001b[1;31m---------------------------------------------------------------------------\u001b[0m",
      "\u001b[1;31mTypeError\u001b[0m                                 Traceback (most recent call last)",
      "Cell \u001b[1;32mIn[128], line 1\u001b[0m\n\u001b[1;32m----> 1\u001b[0m tpl[\u001b[38;5;241m0\u001b[39m] \u001b[38;5;241m=\u001b[39m \u001b[38;5;241m0.5\u001b[39m\n",
      "\u001b[1;31mTypeError\u001b[0m: 'tuple' object does not support item assignment"
     ]
    }
   ],
   "source": [
    "tpl[0] = 0.5"
   ]
  },
  {
   "cell_type": "code",
   "execution_count": 129,
   "id": "fd0b7efb-b3fb-4138-acbf-e1a6ae58c62c",
   "metadata": {},
   "outputs": [
    {
     "ename": "TypeError",
     "evalue": "can only concatenate tuple (not \"int\") to tuple",
     "output_type": "error",
     "traceback": [
      "\u001b[1;31m---------------------------------------------------------------------------\u001b[0m",
      "\u001b[1;31mTypeError\u001b[0m                                 Traceback (most recent call last)",
      "Cell \u001b[1;32mIn[129], line 1\u001b[0m\n\u001b[1;32m----> 1\u001b[0m tpl \u001b[38;5;241m+\u001b[39m (\u001b[38;5;241m5\u001b[39m)\n",
      "\u001b[1;31mTypeError\u001b[0m: can only concatenate tuple (not \"int\") to tuple"
     ]
    }
   ],
   "source": [
    "tpl + (5)"
   ]
  },
  {
   "cell_type": "code",
   "execution_count": 132,
   "id": "f80c0d63-2933-4518-8ca9-317bb81ec933",
   "metadata": {},
   "outputs": [
    {
     "data": {
      "text/plain": [
       "(1, 2, 3, 4, 5)"
      ]
     },
     "execution_count": 132,
     "metadata": {},
     "output_type": "execute_result"
    }
   ],
   "source": [
    "tpl + (5,)"
   ]
  },
  {
   "cell_type": "code",
   "execution_count": 133,
   "id": "d2d1332c-a3c6-4a01-86f0-2435cff1e9a1",
   "metadata": {},
   "outputs": [
    {
     "data": {
      "text/plain": [
       "{10, 20, 30}"
      ]
     },
     "execution_count": 133,
     "metadata": {},
     "output_type": "execute_result"
    }
   ],
   "source": [
    "A = {10, 20, 30, 30}\n",
    "A"
   ]
  },
  {
   "cell_type": "code",
   "execution_count": 135,
   "id": "bb83dfe4-8197-47ed-a5eb-b3c419d83655",
   "metadata": {},
   "outputs": [
    {
     "data": {
      "text/plain": [
       "{1, 2, 3, 4, 5}"
      ]
     },
     "execution_count": 135,
     "metadata": {},
     "output_type": "execute_result"
    }
   ],
   "source": [
    "B = [1, 2, 3, 3, 4, 4, 5]\n",
    "set(B)"
   ]
  },
  {
   "cell_type": "code",
   "execution_count": 136,
   "id": "f8ce69c6-b4ba-41dd-9303-b5934158e851",
   "metadata": {},
   "outputs": [
    {
     "data": {
      "text/plain": [
       "[10, 20, 30]"
      ]
     },
     "execution_count": 136,
     "metadata": {},
     "output_type": "execute_result"
    }
   ],
   "source": [
    "list(A)"
   ]
  },
  {
   "cell_type": "code",
   "execution_count": 137,
   "id": "305fbefb-bf1b-4076-8f8d-b9ebaca5036c",
   "metadata": {},
   "outputs": [
    {
     "ename": "TypeError",
     "evalue": "'set' object is not subscriptable",
     "output_type": "error",
     "traceback": [
      "\u001b[1;31m---------------------------------------------------------------------------\u001b[0m",
      "\u001b[1;31mTypeError\u001b[0m                                 Traceback (most recent call last)",
      "Cell \u001b[1;32mIn[137], line 1\u001b[0m\n\u001b[1;32m----> 1\u001b[0m A[\u001b[38;5;241m0\u001b[39m]\n",
      "\u001b[1;31mTypeError\u001b[0m: 'set' object is not subscriptable"
     ]
    }
   ],
   "source": [
    "A[0]"
   ]
  },
  {
   "cell_type": "code",
   "execution_count": 140,
   "id": "0734880c-96d3-43f7-bcd9-1cfc777ca759",
   "metadata": {},
   "outputs": [
    {
     "data": {
      "text/plain": [
       "{1, 2, 3, 10, 20}"
      ]
     },
     "execution_count": 140,
     "metadata": {},
     "output_type": "execute_result"
    }
   ],
   "source": [
    "A = {1, 2, 3, 3}\n",
    "B = {10, 20, 3}\n",
    "\n",
    "A.union(B)"
   ]
  },
  {
   "cell_type": "code",
   "execution_count": 141,
   "id": "0d1d6e70-aaa9-49b4-9769-26f8e3c4c872",
   "metadata": {},
   "outputs": [
    {
     "data": {
      "text/plain": [
       "{3}"
      ]
     },
     "execution_count": 141,
     "metadata": {},
     "output_type": "execute_result"
    }
   ],
   "source": [
    "A.intersection(B)"
   ]
  },
  {
   "cell_type": "code",
   "execution_count": 142,
   "id": "a100f522-9e0e-4c7e-8190-f2d56eea5270",
   "metadata": {},
   "outputs": [
    {
     "data": {
      "text/plain": [
       "{1, 2}"
      ]
     },
     "execution_count": 142,
     "metadata": {},
     "output_type": "execute_result"
    }
   ],
   "source": [
    "A.difference(B) # A-B"
   ]
  },
  {
   "cell_type": "code",
   "execution_count": 144,
   "id": "5e372777-09af-4727-ae54-fcdc2495473f",
   "metadata": {},
   "outputs": [],
   "source": [
    "b = 10\n",
    "\"\"\"\n",
    "I am ML Engineer.\n",
    "I work at Nascenia.\n",
    "asdadad\n",
    "\"\"\"\n",
    "c = 20"
   ]
  },
  {
   "cell_type": "code",
   "execution_count": 145,
   "id": "c8b28073-5ca3-4a58-a240-950fef3d4632",
   "metadata": {},
   "outputs": [
    {
     "data": {
      "text/plain": [
       "10"
      ]
     },
     "execution_count": 145,
     "metadata": {},
     "output_type": "execute_result"
    }
   ],
   "source": [
    "b"
   ]
  },
  {
   "cell_type": "markdown",
   "id": "292b285f-c87a-4829-889c-b82e1c8437fc",
   "metadata": {},
   "source": [
    "### Dictionary"
   ]
  },
  {
   "cell_type": "code",
   "execution_count": 146,
   "id": "18e8b346-397f-4b09-bc9e-23a04c01baa9",
   "metadata": {},
   "outputs": [
    {
     "data": {
      "text/plain": [
       "{'name': 'ghosh', 'profession': 'Engineer', 'dob': 1990}"
      ]
     },
     "execution_count": 146,
     "metadata": {},
     "output_type": "execute_result"
    }
   ],
   "source": [
    "dict = {\"name\": \"ghosh\", \n",
    "        \"profession\": \"Engineer\",\n",
    "        \"dob\": 1990}\n",
    "dict"
   ]
  },
  {
   "cell_type": "code",
   "execution_count": 147,
   "id": "aa74768d-3594-456d-99b1-a0f9ae8a2501",
   "metadata": {},
   "outputs": [
    {
     "data": {
      "text/plain": [
       "'ghosh'"
      ]
     },
     "execution_count": 147,
     "metadata": {},
     "output_type": "execute_result"
    }
   ],
   "source": [
    "dict[\"name\"]"
   ]
  },
  {
   "cell_type": "code",
   "execution_count": 148,
   "id": "3077a143-9306-4682-bd31-2c0daa26814c",
   "metadata": {},
   "outputs": [
    {
     "data": {
      "text/plain": [
       "{}"
      ]
     },
     "execution_count": 148,
     "metadata": {},
     "output_type": "execute_result"
    }
   ],
   "source": [
    "dict_2 = {} # dict()\n",
    "dict_2"
   ]
  },
  {
   "cell_type": "code",
   "execution_count": 149,
   "id": "ce1a62b2-feeb-454d-bf97-763cc7692c18",
   "metadata": {},
   "outputs": [
    {
     "data": {
      "text/plain": [
       "{'name': 'utshab', 'profession': 'Engineer', 'dob': 1990}"
      ]
     },
     "execution_count": 149,
     "metadata": {},
     "output_type": "execute_result"
    }
   ],
   "source": [
    "dict[\"name\"] = \"utshab\"\n",
    "dict"
   ]
  },
  {
   "cell_type": "code",
   "execution_count": 151,
   "id": "056944c2-7a01-4b49-829a-192ccfe64a09",
   "metadata": {},
   "outputs": [
    {
     "data": {
      "text/plain": [
       "{'name': 'utshab',\n",
       " 'profession': 'Engineer',\n",
       " 'dob': 1990,\n",
       " 'zip': [1210, 1214, 1216]}"
      ]
     },
     "execution_count": 151,
     "metadata": {},
     "output_type": "execute_result"
    }
   ],
   "source": [
    "new = {\"zip\": [1210, 1214, 1216]}\n",
    "dict.update(new)\n",
    "\n",
    "dict"
   ]
  },
  {
   "cell_type": "code",
   "execution_count": 152,
   "id": "40344516-67b3-4f6e-9e23-b5e0cdce46cb",
   "metadata": {},
   "outputs": [
    {
     "data": {
      "text/plain": [
       "{'name': 'utshab', 'profession': 'Engineer', 'zip': [1210, 1214, 1216]}"
      ]
     },
     "execution_count": 152,
     "metadata": {},
     "output_type": "execute_result"
    }
   ],
   "source": [
    "del dict[\"dob\"]\n",
    "dict"
   ]
  },
  {
   "cell_type": "code",
   "execution_count": 153,
   "id": "2f631cc7-ca2c-4929-9017-ad6160b6cc70",
   "metadata": {},
   "outputs": [
    {
     "data": {
      "text/plain": [
       "'utshab'"
      ]
     },
     "execution_count": 153,
     "metadata": {},
     "output_type": "execute_result"
    }
   ],
   "source": [
    "dict.get(\"name\")"
   ]
  },
  {
   "cell_type": "code",
   "execution_count": 154,
   "id": "ceac19eb-977b-477d-b06e-a7faaedd019b",
   "metadata": {},
   "outputs": [
    {
     "data": {
      "text/plain": [
       "True"
      ]
     },
     "execution_count": 154,
     "metadata": {},
     "output_type": "execute_result"
    }
   ],
   "source": [
    "\"name\" in dict"
   ]
  },
  {
   "cell_type": "code",
   "execution_count": 155,
   "id": "9ea219f1-21bd-4b25-a8e8-e5a0231273ec",
   "metadata": {},
   "outputs": [
    {
     "data": {
      "text/plain": [
       "False"
      ]
     },
     "execution_count": 155,
     "metadata": {},
     "output_type": "execute_result"
    }
   ],
   "source": [
    "\"dob\" in dict"
   ]
  },
  {
   "cell_type": "code",
   "execution_count": 156,
   "id": "af6b4423-917f-4bed-87d8-2fdff2bcb1ca",
   "metadata": {},
   "outputs": [
    {
     "data": {
      "text/plain": [
       "dict_keys(['name', 'profession', 'zip'])"
      ]
     },
     "execution_count": 156,
     "metadata": {},
     "output_type": "execute_result"
    }
   ],
   "source": [
    "dict.keys()"
   ]
  },
  {
   "cell_type": "code",
   "execution_count": 157,
   "id": "46341b20-3669-4b4f-9fb4-b2379c787516",
   "metadata": {},
   "outputs": [
    {
     "data": {
      "text/plain": [
       "dict_values(['utshab', 'Engineer', [1210, 1214, 1216]])"
      ]
     },
     "execution_count": 157,
     "metadata": {},
     "output_type": "execute_result"
    }
   ],
   "source": [
    "dict.values()"
   ]
  },
  {
   "cell_type": "code",
   "execution_count": null,
   "id": "275ea01c-c520-4716-affd-956df5a2fef1",
   "metadata": {},
   "outputs": [],
   "source": []
  }
 ],
 "metadata": {
  "kernelspec": {
   "display_name": "Python 3 (ipykernel)",
   "language": "python",
   "name": "python3"
  },
  "language_info": {
   "codemirror_mode": {
    "name": "ipython",
    "version": 3
   },
   "file_extension": ".py",
   "mimetype": "text/x-python",
   "name": "python",
   "nbconvert_exporter": "python",
   "pygments_lexer": "ipython3",
   "version": "3.12.4"
  }
 },
 "nbformat": 4,
 "nbformat_minor": 5
}
